{
 "cells": [
  {
   "cell_type": "code",
   "execution_count": null,
   "metadata": {},
   "outputs": [],
   "source": [
    "import numpy as np\n",
    "import sounddevice as sd\n",
    "from scipy.io import wavfile\n",
    "import soundfile as sf\n",
    "from scipy import signal\n",
    "from scipy.io.wavfile import write\n",
    "import matplotlib.pyplot as plt"
   ]
  },
  {
   "cell_type": "code",
   "execution_count": null,
   "metadata": {},
   "outputs": [],
   "source": [
    "# Load an existing audio file\n",
    "file_path = \"output.wav\"  # Change this to your actual file name\n",
    "\n",
    "# Read audio file\n",
    "fs, myrecording = wavfile.read(file_path)\n",
    "\n",
    "print(f\"Loaded audio file: {file_path} with sample rate {fs}\")"
   ]
  },
  {
   "cell_type": "code",
   "execution_count": null,
   "metadata": {},
   "outputs": [],
   "source": [
    "# Play the recorded audio\n",
    "print(\"Playing the recorded audio...\")\n",
    "sd.play(myrecording, fs)\n",
    "sd.wait()  # Wait until the audio is finished playing\n",
    "print(\"Playback finished\")"
   ]
  },
  {
   "cell_type": "code",
   "execution_count": null,
   "metadata": {},
   "outputs": [],
   "source": [
    "\n",
    "# Read the audio file\n",
    "fs, data = wavfile.read('output.wav')\n",
    "\n",
    "# Plot the waveform\n",
    "plt.figure(figsize=(16, 4))\n",
    "plt.plot(data)\n",
    "plt.title('Waveform of output.wav')\n",
    "plt.xlabel('Sample')\n",
    "plt.ylabel('Amplitude')\n",
    "plt.grid(True)\n",
    "plt.show()"
   ]
  },
  {
   "cell_type": "code",
   "execution_count": null,
   "metadata": {},
   "outputs": [],
   "source": [
    "# Perform FFT\n",
    "fft_data = np.fft.fft(data, axis=0)\n",
    "\n",
    "# Compute the frequencies\n",
    "frequencies = np.fft.fftfreq(data.shape[0], d=1/fs)\n",
    "\n",
    "# Only keep the positive frequencies\n",
    "positive_frequencies = frequencies[:data.shape[0] // 2]\n",
    "positive_fft_data = np.abs(fft_data[:data.shape[0] // 2])\n",
    "\n",
    "# Plot the frequency spectrum\n",
    "plt.figure(figsize=(16, 4))\n",
    "plt.plot(positive_frequencies, positive_fft_data)\n",
    "plt.title('Frequency Spectrum of the recorded audio')\n",
    "plt.xlabel('Frequency (Hz)')\n",
    "plt.ylabel('Amplitude')\n",
    "plt.grid(True)\n",
    "plt.show()"
   ]
  },
  {
   "cell_type": "code",
   "execution_count": null,
   "metadata": {},
   "outputs": [],
   "source": [
    "# Generate random noise\n",
    "random_noise = np.random.normal(0, 0.01, myrecording.shape)\n",
    "\n",
    "# Add the random noise to the recorded sound\n",
    "myrecording_with_random_noise = myrecording + random_noise\n",
    "\n",
    "# Save the noisy recording as a new WAV file\n",
    "write('output_with_random_noise.wav', fs, myrecording_with_random_noise)\n",
    "print(\"Audio with random noise saved as output_with_random_noise.wav\")"
   ]
  },
  {
   "cell_type": "code",
   "execution_count": null,
   "metadata": {},
   "outputs": [],
   "source": [
    "# Plot the waveform of the noisy recording\n",
    "plt.figure(figsize=(16, 4))\n",
    "plt.plot(myrecording_with_random_noise)\n",
    "plt.title('Waveform of Noisy Recording')\n",
    "plt.xlabel('Sample')\n",
    "plt.ylabel('Amplitude')\n",
    "plt.grid(True)\n",
    "plt.show()\n",
    "\n",
    "# Play the noisy recording\n",
    "print(\"Playing the noisy recording...\")\n",
    "sd.play(myrecording_with_random_noise, fs)\n",
    "sd.wait()  # Wait until the audio is finished playing\n",
    "print(\"Playback finished\")"
   ]
  },
  {
   "cell_type": "code",
   "execution_count": null,
   "metadata": {},
   "outputs": [],
   "source": [
    "# Perform FFT on the noisy recording\n",
    "fft_data_noisy = np.fft.fft(myrecording_with_random_noise, axis=0)\n",
    "\n",
    "# Compute the frequencies\n",
    "frequencies_noisy = np.fft.fftfreq(myrecording_with_random_noise.shape[0], d=1/fs)\n",
    "\n",
    "# Only keep the positive frequencies\n",
    "positive_frequencies_noisy = frequencies_noisy[:myrecording_with_random_noise.shape[0] // 2]\n",
    "positive_fft_data_noisy = np.abs(fft_data_noisy[:myrecording_with_random_noise.shape[0] // 2])\n",
    "\n",
    "# Plot the frequency spectrum of the noisy recording\n",
    "plt.figure(figsize=(16, 4))\n",
    "plt.plot(positive_frequencies_noisy, positive_fft_data_noisy)\n",
    "plt.title('Frequency Spectrum of the Noisy Recording')\n",
    "plt.xlabel('Frequency (Hz)')\n",
    "plt.ylabel('Amplitude')\n",
    "plt.grid(True)\n",
    "plt.show()"
   ]
  },
  {
   "cell_type": "code",
   "execution_count": null,
   "metadata": {},
   "outputs": [],
   "source": [
    "plt.figure(figsize=(16, 8))\n",
    "\n",
    "# Plot the clean sound\n",
    "plt.subplot(2, 1, 1)\n",
    "plt.plot(myrecording)\n",
    "plt.title('Waveform of Clean Recording')\n",
    "plt.xlabel('Sample')\n",
    "plt.ylabel('Amplitude')\n",
    "plt.grid(True)\n",
    "\n",
    "# Plot the noisy sound\n",
    "plt.subplot(2, 1, 2)\n",
    "plt.plot(myrecording_with_random_noise)\n",
    "plt.title('Waveform of Noisy Recording')\n",
    "plt.xlabel('Sample')\n",
    "plt.ylabel('Amplitude')\n",
    "plt.grid(True)\n",
    "\n",
    "plt.tight_layout()\n",
    "plt.show()"
   ]
  },
  {
   "cell_type": "code",
   "execution_count": null,
   "metadata": {},
   "outputs": [],
   "source": [
    "# Configuration\n",
    "input_path = 'output_with_random_noise.wav'\n",
    "output_path = 'filtered_audio.wav'\n",
    "cutoff_freq = 8000  # Adjust based on your noise analysis (Hz)\n",
    "filter_order = 203   # Must be odd (higher = sharper transition)\n",
    "\n",
    "# Read audio file\n",
    "noisy_signal, fs = sf.read(input_path)\n",
    "\n",
    "# Design FIR filter\n",
    "taps = signal.firwin(filter_order, cutoff_freq, fs=fs, pass_zero='lowpass')\n",
    "\n",
    "# Apply zero-phase filtering (preserves timing)\n",
    "filtered_signal = signal.filtfilt(taps, 1.0, myrecording_with_random_noise, axis=0)\n",
    "\n",
    "# Normalize to [-1, 1] range to prevent clipping\n",
    "filtered_signal = filtered_signal / np.max(np.abs(filtered_signal))\n",
    "\n",
    "# Play original and filtered audio for comparison\n",
    "print(\"Playing original noisy audio...\")\n",
    "sd.play(myrecording_with_random_noise, fs)\n",
    "sd.wait()\n",
    "\n",
    "print(\"Playing filtered audio...\")\n",
    "sd.play(filtered_signal, fs)\n",
    "sd.wait()\n",
    "\n",
    "# Save filtered audio\n",
    "sf.write(output_path, filtered_signal, fs)\n",
    "print(f\"Filtered audio saved to {output_path}\")"
   ]
  },
  {
   "cell_type": "code",
   "execution_count": null,
   "metadata": {},
   "outputs": [],
   "source": [
    "plt.figure(figsize=(16, 12))\n",
    "\n",
    "# Plot the original recording\n",
    "plt.subplot(3, 1, 1)\n",
    "plt.plot(myrecording)\n",
    "plt.title('Waveform of Original Recording')\n",
    "plt.xlabel('Sample')\n",
    "plt.ylabel('Amplitude')\n",
    "plt.grid(True)\n",
    "\n",
    "# Plot the noisy recording\n",
    "plt.subplot(3, 1, 2)\n",
    "plt.plot(myrecording_with_random_noise)\n",
    "plt.title('Waveform of Noisy Recording')\n",
    "plt.xlabel('Sample')\n",
    "plt.ylabel('Amplitude')\n",
    "plt.grid(True)\n",
    "\n",
    "# Plot the filtered recording\n",
    "plt.subplot(3, 1, 3)\n",
    "plt.plot(filtered_signal)\n",
    "plt.title('Waveform of Filtered Recording')\n",
    "plt.xlabel('Sample')\n",
    "plt.ylabel('Amplitude')\n",
    "plt.grid(True)\n",
    "\n",
    "plt.tight_layout()\n",
    "plt.show()"
   ]
  },
  {
   "cell_type": "code",
   "execution_count": null,
   "metadata": {},
   "outputs": [],
   "source": [
    "# Perform FFT on the filtered recording\n",
    "fft_data_filtered = np.fft.fft(filtered_signal, axis=0)\n",
    "\n",
    "# Compute the frequencies\n",
    "frequencies_filtered = np.fft.fftfreq(filtered_signal.shape[0], d=1/fs)\n",
    "\n",
    "# Only keep the positive frequencies\n",
    "positive_frequencies_filtered = frequencies_filtered[:filtered_signal.shape[0] // 2]\n",
    "positive_fft_data_filtered = np.abs(fft_data_filtered[:filtered_signal.shape[0] // 2])\n",
    "\n",
    "# Plot the frequency spectrum of the filtered recording\n",
    "plt.figure(figsize=(16, 4))\n",
    "plt.plot(positive_frequencies_filtered, positive_fft_data_filtered)\n",
    "plt.title('Frequency Spectrum of the Filtered Recording')\n",
    "plt.xlabel('Frequency (Hz)')\n",
    "plt.ylabel('Amplitude')\n",
    "plt.grid(True)\n",
    "plt.show()"
   ]
  }
 ],
 "metadata": {
  "kernelspec": {
   "display_name": "base",
   "language": "python",
   "name": "python3"
  },
  "language_info": {
   "codemirror_mode": {
    "name": "ipython",
    "version": 3
   },
   "file_extension": ".py",
   "mimetype": "text/x-python",
   "name": "python",
   "nbconvert_exporter": "python",
   "pygments_lexer": "ipython3",
   "version": "3.12.4"
  }
 },
 "nbformat": 4,
 "nbformat_minor": 2
}
